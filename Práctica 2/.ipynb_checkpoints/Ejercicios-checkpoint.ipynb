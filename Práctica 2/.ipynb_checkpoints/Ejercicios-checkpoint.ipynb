{
 "cells": [
  {
   "cell_type": "code",
   "execution_count": 8,
   "metadata": {},
   "outputs": [
    {
     "name": "stdout",
     "output_type": "stream",
     "text": [
      "Introduce un número en la lista:3\n",
      "Introduce un número en la lista:6\n",
      "Introduce un número en la lista:9\n",
      "Introduce un número en la lista:8\n",
      "Introduce un número en la lista:-9\n",
      "3  6  9  8  "
     ]
    }
   ],
   "source": [
    "una_lista = []\n",
    "un_numero = int(input(\"Introduce un número en la lista:\"))\n",
    "while un_numero>=0:\n",
    "    una_lista.append(un_numero)\n",
    "    un_numero = int(input(\"Introduce un número en la lista:\"))\n",
    "\n",
    "for un_numero in una_lista:\n",
    "    print(un_numero,\" \",end=\"\")"
   ]
  },
  {
   "cell_type": "code",
   "execution_count": 10,
   "metadata": {},
   "outputs": [
    {
     "name": "stdout",
     "output_type": "stream",
     "text": [
      "Introduce el elemento 1 del vector1:1\n",
      "Introduce el elemento 2 del vector1:1\n",
      "Introduce el elemento 3 del vector1:1\n",
      "Introduce el elemento 4 del vector1:1\n",
      "Introduce el elemento 5 del vector1:1\n",
      "Introduce el elemento 1 del vector2:1\n",
      "Introduce el elemento 2 del vector2:1\n",
      "Introduce el elemento 3 del vector2:1\n",
      "Introduce el elemento 4 del vector2:1\n",
      "Introduce el elemento 5 del vector2:1\n",
      "La suma de los vectores es:\n",
      "2  2  2  2  2  "
     ]
    }
   ],
   "source": [
    "lista1 = []\n",
    "lista2 = []\n",
    "lista3 = []\n",
    "for indice in range(1,6):\n",
    "\tlista1.append(int(input(\"Introduce el elemento %d del vector1:\" % indice)))\n",
    "for indice in range(1,6):\n",
    "\tlista2.append(int(input(\"Introduce el elemento %d del vector2:\" % indice)))\n",
    "\n",
    "for indice in range(0,5):\n",
    "\tlista3.append(lista1[indice] + lista2[indice])\n",
    "\n",
    "print(\"La suma de los vectores es:\")\n",
    "for numero in lista3:\n",
    "\tprint(numero,\" \",end=\"\")"
   ]
  },
  {
   "cell_type": "code",
   "execution_count": 11,
   "metadata": {},
   "outputs": [
    {
     "name": "stdout",
     "output_type": "stream",
     "text": [
      "Dime el nombre de un alumno:Francisco Araujo*\n",
      "Dime su edad:19\n",
      "Dime el nombre de un alumno:*\n",
      "Alumnos mayores de edad\n",
      "=======================\n",
      "Francisco Araujo*\n",
      "Alumnos mayores\n",
      "===============\n",
      "Francisco Araujo*\n"
     ]
    }
   ],
   "source": [
    "nombres = []\n",
    "edades = []\n",
    "# Inicializo las listas hasta que introduzca un \"*\" \n",
    "while True:\t\n",
    "\tnombre = input(\"Dime el nombre de un alumno:\")\n",
    "\tif nombre != \"*\":\n",
    "\t\tnombres.append(nombre)\n",
    "\t\tedades.append(int(input(\"Dime su edad:\")))\n",
    "\tif nombre == \"*\": break;\t\n",
    "\n",
    "# Calcular la edad máxima\n",
    "edad_max = max(edades)\n",
    "# Alumnos mayores de edad\n",
    "print(\"Alumnos mayores de edad\")\n",
    "print(\"=======================\")\n",
    "for nombre,edad in zip(nombres,edades):\n",
    "\tif edad >= 18:\n",
    "\t\tprint(nombre)\n",
    "\t\n",
    "# Alumnos mayores \n",
    "\n",
    "print(\"Alumnos mayores\")\n",
    "print(\"===============\")\n",
    "for nombre,edad in zip(nombres,edades):\n",
    "\tif edad == edad_max:\n",
    "\t\tprint(nombre)\n"
   ]
  },
  {
   "cell_type": "code",
   "execution_count": null,
   "metadata": {},
   "outputs": [],
   "source": []
  }
 ],
 "metadata": {
  "kernelspec": {
   "display_name": "Python 3",
   "language": "python",
   "name": "python3"
  },
  "language_info": {
   "codemirror_mode": {
    "name": "ipython",
    "version": 3
   },
   "file_extension": ".py",
   "mimetype": "text/x-python",
   "name": "python",
   "nbconvert_exporter": "python",
   "pygments_lexer": "ipython3",
   "version": "3.8.5"
  }
 },
 "nbformat": 4,
 "nbformat_minor": 4
}
